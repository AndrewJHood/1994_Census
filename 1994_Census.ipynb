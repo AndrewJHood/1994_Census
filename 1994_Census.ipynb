{
  "nbformat": 4,
  "nbformat_minor": 0,
  "metadata": {
    "colab": {
      "provenance": []
    },
    "kernelspec": {
      "name": "python3",
      "display_name": "Python 3"
    },
    "language_info": {
      "name": "python"
    }
  },
  "cells": [
    {
      "cell_type": "code",
      "execution_count": 32,
      "metadata": {
        "id": "jWTFzeObzyMe"
      },
      "outputs": [],
      "source": [
        "import numpy as np\n",
        "import pandas as pd\n",
        "import matplotlib.pyplot as plt\n",
        "from sklearn.preprocessing import StandardScaler\n",
        "from imblearn.over_sampling import RandomOverSampler\n",
        "from sklearn.metrics import classification_report"
      ]
    },
    {
      "cell_type": "markdown",
      "source": [
        "\n",
        "### Dataset Source\n",
        "Becker, B. & Kohavi, R. (1996). Adult [Dataset]. UCI Machine Learning Repository. https://doi.org/10.24432/C5XW20."
      ],
      "metadata": {
        "id": "ZKb3xWcJysPf"
      }
    },
    {
      "cell_type": "markdown",
      "source": [
        "### Code inspired by Kylie Ying from freeCodeCamp.org\n",
        "Ying, K. (2022, September 26). Machine Learning for Everbody - Full Course. YouTube. https://www.youtube.com/watch?v=i_LwzRVP7bg"
      ],
      "metadata": {
        "id": "4e9EFzKmTL2Y"
      }
    },
    {
      "cell_type": "code",
      "source": [
        "cols = [\"age\", \"workclass\", \"fnlwgt\", \"education\", \"education-num\", \"marital-status\", \"occupation\", \"relationship\", \"race\", \"sex\", \"capital-gain\", \"capital-loss\", \"hours-per-week\", \"native-country\", \"income\"]\n",
        "df = pd.read_csv(\"adult.data\", names=cols, sep=\",\\s+\", engine=\"python\")"
      ],
      "metadata": {
        "id": "QJpxWegE0D3Q"
      },
      "execution_count": 33,
      "outputs": []
    },
    {
      "cell_type": "markdown",
      "source": [
        "### Cleaning the data and making it usable"
      ],
      "metadata": {
        "id": "vJAJ02VlKi4k"
      }
    },
    {
      "cell_type": "code",
      "source": [
        "df = df[df[\"workclass\"] != \"?\"]\n",
        "df[\"income\"] = (df[\"income\"] == \">50K\").astype(int)\n",
        "df[\"workclass\"] = ((df[\"workclass\"]).astype(\"category\")).cat.codes\n",
        "df[\"marital-status\"] = ((df[\"marital-status\"]).astype(\"category\")).cat.codes\n",
        "df[\"occupation\"] = ((df[\"occupation\"]).astype(\"category\")).cat.codes\n",
        "df[\"relationship\"] = ((df[\"relationship\"]).astype(\"category\")).cat.codes\n",
        "df[\"race\"] = ((df[\"race\"]).astype(\"category\")).cat.codes\n",
        "df[\"sex\"] = (df[\"sex\"] == \"Male\").astype(int)\n",
        "df[\"native-country\"] = ((df[\"native-country\"]).astype(\"category\")).cat.codes\n",
        "df = df.drop([\"education\"], axis=1)"
      ],
      "metadata": {
        "collapsed": true,
        "id": "N7I84t7CKPhR"
      },
      "execution_count": null,
      "outputs": []
    },
    {
      "cell_type": "markdown",
      "source": [
        "### Preprocessing"
      ],
      "metadata": {
        "id": "d4sVJvSsLUec"
      }
    },
    {
      "cell_type": "code",
      "source": [
        "train, val, test = np.split(df.sample(frac=1), [int(0.6*len(df)), int(0.8*len(df))])"
      ],
      "metadata": {
        "collapsed": true,
        "id": "uDh8oQOj1qeE"
      },
      "execution_count": null,
      "outputs": []
    },
    {
      "cell_type": "code",
      "source": [
        "def scale_dataset(dataframe, oversample=False):\n",
        "  X = dataframe[dataframe.columns[:-1]].values\n",
        "  y = dataframe[dataframe.columns[-1]].values\n",
        "\n",
        "  scaler = StandardScaler()\n",
        "  X = scaler.fit_transform(X)\n",
        "\n",
        "  if oversample:\n",
        "    ros = RandomOverSampler()\n",
        "    X, y = ros.fit_resample(X,y)\n",
        "\n",
        "  data = np.hstack((X, np.reshape(y, (-1,1))))\n",
        "\n",
        "  return data, X, y"
      ],
      "metadata": {
        "id": "4bmzkAVEOdBC"
      },
      "execution_count": 36,
      "outputs": []
    },
    {
      "cell_type": "code",
      "source": [
        "train, X_train, y_train = scale_dataset(train, oversample=True)\n",
        "val, X_val, y_val = scale_dataset(val, oversample=False)\n",
        "test, X_test, y_test = scale_dataset(test, oversample=False)"
      ],
      "metadata": {
        "collapsed": true,
        "id": "K-FkA-rJ4pzu"
      },
      "execution_count": null,
      "outputs": []
    },
    {
      "cell_type": "markdown",
      "source": [
        "### K Nearest Neighbors (KNN)"
      ],
      "metadata": {
        "id": "7H7hFa2WLrC0"
      }
    },
    {
      "cell_type": "code",
      "source": [
        "from sklearn.neighbors import KNeighborsClassifier"
      ],
      "metadata": {
        "id": "p05yoYaQvZ_G"
      },
      "execution_count": 38,
      "outputs": []
    },
    {
      "cell_type": "code",
      "source": [
        "knn_model = KNeighborsClassifier(n_neighbors=1)\n",
        "knn_model.fit(X_train, y_train)"
      ],
      "metadata": {
        "id": "ksFY4XYqxRdN"
      },
      "execution_count": null,
      "outputs": []
    },
    {
      "cell_type": "code",
      "source": [
        "y_pred = knn_model.predict(X_test)"
      ],
      "metadata": {
        "id": "lMkm5jKgxlHl"
      },
      "execution_count": 40,
      "outputs": []
    },
    {
      "cell_type": "code",
      "source": [
        "print(classification_report(y_test, y_pred))"
      ],
      "metadata": {
        "colab": {
          "base_uri": "https://localhost:8080/"
        },
        "id": "JpoJR1haxpS3",
        "outputId": "3a968bbc-767a-4ac5-81b7-e343fbd66e50"
      },
      "execution_count": 41,
      "outputs": [
        {
          "output_type": "stream",
          "name": "stdout",
          "text": [
            "              precision    recall  f1-score   support\n",
            "\n",
            "           0       0.87      0.86      0.86      4654\n",
            "           1       0.58      0.59      0.58      1491\n",
            "\n",
            "    accuracy                           0.80      6145\n",
            "   macro avg       0.72      0.73      0.72      6145\n",
            "weighted avg       0.80      0.80      0.80      6145\n",
            "\n"
          ]
        }
      ]
    },
    {
      "cell_type": "markdown",
      "source": [
        "### Naive Bayes"
      ],
      "metadata": {
        "id": "wW0aI_ny1LdZ"
      }
    },
    {
      "cell_type": "code",
      "source": [
        "from sklearn.naive_bayes import GaussianNB"
      ],
      "metadata": {
        "id": "KEi5Fw3vyO7I"
      },
      "execution_count": 42,
      "outputs": []
    },
    {
      "cell_type": "code",
      "source": [
        "nb_model = GaussianNB()\n",
        "nb_model.fit(X_train, y_train)"
      ],
      "metadata": {
        "id": "VCak1wOa1W-m"
      },
      "execution_count": null,
      "outputs": []
    },
    {
      "cell_type": "code",
      "source": [
        "y_pred = nb_model.predict(X_test)"
      ],
      "metadata": {
        "id": "SX4_ah9v1dEk"
      },
      "execution_count": 44,
      "outputs": []
    },
    {
      "cell_type": "code",
      "source": [
        "print(classification_report(y_test, y_pred))"
      ],
      "metadata": {
        "colab": {
          "base_uri": "https://localhost:8080/"
        },
        "id": "VRMeYspN1lR8",
        "outputId": "512b12c3-f036-4186-f7b4-d96d8e61fa88"
      },
      "execution_count": 45,
      "outputs": [
        {
          "output_type": "stream",
          "name": "stdout",
          "text": [
            "              precision    recall  f1-score   support\n",
            "\n",
            "           0       0.83      0.93      0.88      4654\n",
            "           1       0.67      0.42      0.52      1491\n",
            "\n",
            "    accuracy                           0.81      6145\n",
            "   macro avg       0.75      0.68      0.70      6145\n",
            "weighted avg       0.79      0.81      0.79      6145\n",
            "\n"
          ]
        }
      ]
    },
    {
      "cell_type": "markdown",
      "source": [
        "### Logistic Regression"
      ],
      "metadata": {
        "id": "rvd1EdQU2PKX"
      }
    },
    {
      "cell_type": "code",
      "source": [
        "from sklearn.linear_model import LogisticRegression"
      ],
      "metadata": {
        "id": "nG_9xeCO18_P"
      },
      "execution_count": 46,
      "outputs": []
    },
    {
      "cell_type": "code",
      "source": [
        "lgr_model = LogisticRegression()\n",
        "lgr_model.fit(X_train, y_train)"
      ],
      "metadata": {
        "id": "ljo-Pgme2BHo"
      },
      "execution_count": null,
      "outputs": []
    },
    {
      "cell_type": "code",
      "source": [
        "y_pred = lgr_model.predict(X_test)\n",
        "print (classification_report(y_test, y_pred))"
      ],
      "metadata": {
        "colab": {
          "base_uri": "https://localhost:8080/"
        },
        "id": "CfuD8lmB2FLw",
        "outputId": "0ec54550-5e64-432f-84ef-2bd08bf8e82e"
      },
      "execution_count": 48,
      "outputs": [
        {
          "output_type": "stream",
          "name": "stdout",
          "text": [
            "              precision    recall  f1-score   support\n",
            "\n",
            "           0       0.90      0.77      0.83      4654\n",
            "           1       0.51      0.75      0.60      1491\n",
            "\n",
            "    accuracy                           0.76      6145\n",
            "   macro avg       0.71      0.76      0.72      6145\n",
            "weighted avg       0.81      0.76      0.78      6145\n",
            "\n"
          ]
        }
      ]
    },
    {
      "cell_type": "markdown",
      "source": [
        "### Support Vector Machines (SVM)"
      ],
      "metadata": {
        "id": "a7a6AOKq2TqK"
      }
    },
    {
      "cell_type": "code",
      "source": [
        "from sklearn.svm import SVC"
      ],
      "metadata": {
        "id": "Q_risJWz2gNS"
      },
      "execution_count": 49,
      "outputs": []
    },
    {
      "cell_type": "code",
      "source": [
        "svm_model = SVC()\n",
        "svm_model.fit(X_train, y_train)"
      ],
      "metadata": {
        "id": "HrnvCrUs2k7E"
      },
      "execution_count": null,
      "outputs": []
    },
    {
      "cell_type": "code",
      "source": [
        "y_pred = svm_model.predict(X_test)\n",
        "print (classification_report(y_test, y_pred))"
      ],
      "metadata": {
        "colab": {
          "base_uri": "https://localhost:8080/"
        },
        "id": "1wUB62lB2oZ8",
        "outputId": "732c72f1-8da1-4356-acee-79e021b5d4d3"
      },
      "execution_count": 51,
      "outputs": [
        {
          "output_type": "stream",
          "name": "stdout",
          "text": [
            "              precision    recall  f1-score   support\n",
            "\n",
            "           0       0.95      0.76      0.85      4654\n",
            "           1       0.54      0.87      0.67      1491\n",
            "\n",
            "    accuracy                           0.79      6145\n",
            "   macro avg       0.74      0.81      0.76      6145\n",
            "weighted avg       0.85      0.79      0.80      6145\n",
            "\n"
          ]
        }
      ]
    },
    {
      "cell_type": "markdown",
      "source": [
        "### Neural Network"
      ],
      "metadata": {
        "id": "sY54leZN3kha"
      }
    },
    {
      "cell_type": "code",
      "source": [
        "import tensorflow as tf"
      ],
      "metadata": {
        "id": "NmGO0Vto3nza"
      },
      "execution_count": 52,
      "outputs": []
    },
    {
      "cell_type": "code",
      "source": [
        "nn_model = tf.keras.Sequential([\n",
        "    tf.keras.layers.Dense(64, activation=\"relu\", input_shape=(13,)),\n",
        "    tf.keras.layers.Dense(32, activation=\"relu\"),\n",
        "    tf.keras.layers.Dense(1, activation=\"sigmoid\")\n",
        "])\n",
        "\n",
        "nn_model.compile(optimizer=tf.keras.optimizers.Adam(0.001), loss='binary_crossentropy',\n",
        "                 metrics=['accuracy'])"
      ],
      "metadata": {
        "id": "rV4HcLI-3wcc"
      },
      "execution_count": null,
      "outputs": []
    },
    {
      "cell_type": "code",
      "source": [
        "history = nn_model.fit(\n",
        "    X_train, y_train, epochs=100, batch_size=32, validation_split=0.2, verbose=0\n",
        ")"
      ],
      "metadata": {
        "id": "NJP4GLaC4lzL"
      },
      "execution_count": 54,
      "outputs": []
    },
    {
      "cell_type": "code",
      "source": [
        "nn_model.evaluate(X_test, y_test)"
      ],
      "metadata": {
        "colab": {
          "base_uri": "https://localhost:8080/"
        },
        "id": "kFqC3eLT7jR7",
        "outputId": "9fb03a01-bb2d-4883-d995-d71dff1ef431"
      },
      "execution_count": 55,
      "outputs": [
        {
          "output_type": "stream",
          "name": "stdout",
          "text": [
            "\u001b[1m193/193\u001b[0m \u001b[32m━━━━━━━━━━━━━━━━━━━━\u001b[0m\u001b[37m\u001b[0m \u001b[1m0s\u001b[0m 1ms/step - accuracy: 0.8075 - loss: 0.4237\n"
          ]
        },
        {
          "output_type": "execute_result",
          "data": {
            "text/plain": [
              "[0.4174982011318207, 0.815947949886322]"
            ]
          },
          "metadata": {},
          "execution_count": 55
        }
      ]
    },
    {
      "cell_type": "code",
      "source": [],
      "metadata": {
        "id": "AGGYgMQwPNsg"
      },
      "execution_count": null,
      "outputs": []
    }
  ]
}